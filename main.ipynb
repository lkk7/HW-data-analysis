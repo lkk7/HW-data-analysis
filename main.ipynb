{
 "cells": [
  {
   "cell_type": "markdown",
   "metadata": {},
   "source": [
    "# HW Ranking Data Analysis"
   ]
  },
  {
   "cell_type": "markdown",
   "metadata": {},
   "source": [
    "### 1. Combining data from multiple files"
   ]
  },
  {
   "cell_type": "code",
   "execution_count": 605,
   "metadata": {},
   "outputs": [],
   "source": [
    "import glob, os\n",
    "import numpy as np\n",
    "import pandas as pd"
   ]
  },
  {
   "cell_type": "markdown",
   "metadata": {},
   "source": [
    "Concatenating multiple csv files and adding their names to the DataFrame:"
   ]
  },
  {
   "cell_type": "code",
   "execution_count": 606,
   "metadata": {
    "scrolled": true
   },
   "outputs": [],
   "source": [
    "all_files = glob.glob(\"data/*.csv\")\n",
    "li = []\n",
    "raw_df = pd.concat((pd.read_csv(f).assign(player = f[5:-4]) for f in all_files))"
   ]
  },
  {
   "cell_type": "markdown",
   "metadata": {},
   "source": [
    "### 2. Decoding and fixing the data"
   ]
  },
  {
   "cell_type": "code",
   "execution_count": 607,
   "metadata": {},
   "outputs": [],
   "source": [
    "import re"
   ]
  },
  {
   "cell_type": "markdown",
   "metadata": {},
   "source": [
    "Cleaning up the decoding file, then making a DataFrame out of it:"
   ]
  },
  {
   "cell_type": "code",
   "execution_count": 608,
   "metadata": {},
   "outputs": [],
   "source": [
    "with open(os.path.join('data', 'DECODING.txt'), 'r') as f:\n",
    "    lines = f.readlines()\n",
    "    lines = list(filter(None, [re.sub('\\n|[=>]|\\'|\"|,', '', line) for line in lines]))\n",
    "decode_dict = {}\n",
    "current_column = None\n",
    "for line in lines:\n",
    "    if line[0].isdigit():\n",
    "        decode_dict[current_column].append(re.sub('^\\d+\\s+(.*\\s+/\\s+)?', '', line))\n",
    "    else:\n",
    "        current_column = line\n",
    "        decode_dict[current_column] = []     "
   ]
  },
  {
   "cell_type": "code",
   "execution_count": 609,
   "metadata": {},
   "outputs": [
    {
     "data": {
      "text/html": [
       "<div>\n",
       "<style scoped>\n",
       "    .dataframe tbody tr th:only-of-type {\n",
       "        vertical-align: middle;\n",
       "    }\n",
       "\n",
       "    .dataframe tbody tr th {\n",
       "        vertical-align: top;\n",
       "    }\n",
       "\n",
       "    .dataframe thead th {\n",
       "        text-align: right;\n",
       "    }\n",
       "</style>\n",
       "<table border=\"1\" class=\"dataframe\">\n",
       "  <thead>\n",
       "    <tr style=\"text-align: right;\">\n",
       "      <th></th>\n",
       "      <th>results</th>\n",
       "      <th>versions</th>\n",
       "      <th>templates</th>\n",
       "      <th>colors</th>\n",
       "      <th>fractions</th>\n",
       "      <th>heroes</th>\n",
       "    </tr>\n",
       "  </thead>\n",
       "  <tbody>\n",
       "    <tr>\n",
       "      <th>1</th>\n",
       "      <td>Draw</td>\n",
       "      <td>SoD</td>\n",
       "      <td>2sm4d(3)</td>\n",
       "      <td>Red</td>\n",
       "      <td>Castle</td>\n",
       "      <td>Orrin</td>\n",
       "    </tr>\n",
       "    <tr>\n",
       "      <th>2</th>\n",
       "      <td>Win</td>\n",
       "      <td>WT</td>\n",
       "      <td>Balance</td>\n",
       "      <td>Blue</td>\n",
       "      <td>Rampart</td>\n",
       "      <td>Valeska</td>\n",
       "    </tr>\n",
       "    <tr>\n",
       "      <th>3</th>\n",
       "      <td>Lose</td>\n",
       "      <td>Hota</td>\n",
       "      <td>Panic</td>\n",
       "      <td>Green</td>\n",
       "      <td>Tower</td>\n",
       "      <td>Edric</td>\n",
       "    </tr>\n",
       "    <tr>\n",
       "      <th>4</th>\n",
       "      <td>NaN</td>\n",
       "      <td>NaN</td>\n",
       "      <td>Jebus Cross</td>\n",
       "      <td>Orange</td>\n",
       "      <td>Inferno</td>\n",
       "      <td>Sylvia</td>\n",
       "    </tr>\n",
       "    <tr>\n",
       "      <th>5</th>\n",
       "      <td>NaN</td>\n",
       "      <td>NaN</td>\n",
       "      <td>8mm6</td>\n",
       "      <td>Purple</td>\n",
       "      <td>Necropolis</td>\n",
       "      <td>Lord Haart</td>\n",
       "    </tr>\n",
       "  </tbody>\n",
       "</table>\n",
       "</div>"
      ],
      "text/plain": [
       "  results versions    templates  colors   fractions      heroes\n",
       "1    Draw      SoD     2sm4d(3)     Red      Castle       Orrin\n",
       "2     Win       WT      Balance    Blue     Rampart     Valeska\n",
       "3    Lose     Hota        Panic   Green       Tower       Edric\n",
       "4     NaN      NaN  Jebus Cross  Orange     Inferno      Sylvia\n",
       "5     NaN      NaN         8mm6  Purple  Necropolis  Lord Haart"
      ]
     },
     "execution_count": 609,
     "metadata": {},
     "output_type": "execute_result"
    }
   ],
   "source": [
    "decoding_df = pd.DataFrame(dict([(k, pd.Series(v)) for k,v in decode_dict.items()]))\n",
    "decoding_df.index += 1\n",
    "decoding_df.head()"
   ]
  },
  {
   "cell_type": "markdown",
   "metadata": {},
   "source": [
    "Using the just created DataFrame to decode the values:"
   ]
  },
  {
   "cell_type": "code",
   "execution_count": 610,
   "metadata": {},
   "outputs": [],
   "source": [
    "deciphered_df = raw_df.copy()\n",
    "deciphered_df['game_template'] = decoding_df.loc[deciphered_df['game_template'], 'templates'].values\n",
    "deciphered_df['game_version'] = decoding_df.loc[deciphered_df['game_version'], 'versions'].values\n",
    "deciphered_df['p1_fraction'] = decoding_df.loc[deciphered_df['p1_fraction'], 'fractions'].values\n",
    "deciphered_df['p2_fraction'] = decoding_df.loc[deciphered_df['p2_fraction'], 'fractions'].values\n",
    "deciphered_df['p1_hero_start'] = decoding_df.loc[deciphered_df['p1_hero_start'], 'heroes'].values\n",
    "deciphered_df['p2_hero_start'] = decoding_df.loc[deciphered_df['p2_hero_start'], 'heroes'].values\n",
    "deciphered_df['p_1_hero_main'] = decoding_df.loc[deciphered_df['p_1_hero_main'], 'heroes'].values\n",
    "deciphered_df['p2_hero_main'] = decoding_df.loc[deciphered_df['p2_hero_main'], 'heroes'].values\n",
    "deciphered_df['game_result'] = decoding_df.loc[deciphered_df['game_result'], 'results'].values\n",
    "deciphered_df['p1'] = True\n",
    "deciphered_df.dropna(inplace=True)\n",
    "deciphered_df = deciphered_df[deciphered_df.game_version != 'SoD']\n",
    "deciphered_df.reset_index(drop=True, inplace=True)"
   ]
  },
  {
   "cell_type": "markdown",
   "metadata": {},
   "source": [
    "Fixing wrong match results:"
   ]
  },
  {
   "cell_type": "code",
   "execution_count": 611,
   "metadata": {},
   "outputs": [],
   "source": [
    "players_ids = {\"Drakonin\":53651, \"Dawidu91\":28655, \"Jaris\":36344,\n",
    "               \"Jelen117\":36750, \"Szopa666\":55968, \"Tyranuxus\" : 52903}\n",
    "\n",
    "deciphered_df.loc[(deciphered_df['p2_id'] == deciphered_df['player'].map(players_ids))\n",
    "                  & (deciphered_df['p2_rating_change'] > 0), ['game_result', 'p1']] = ['Win', False]\n",
    "deciphered_df.loc[(deciphered_df['p2_id'] == deciphered_df['player'].map(players_ids))\n",
    "                  & (deciphered_df['p2_rating_change'] < 0), ['game_result', 'p1']] = ['Lose', False]"
   ]
  },
  {
   "cell_type": "markdown",
   "metadata": {},
   "source": [
    "### 3. Analysis"
   ]
  },
  {
   "cell_type": "markdown",
   "metadata": {},
   "source": [
    "Ready-to-analyze dataframe:"
   ]
  },
  {
   "cell_type": "code",
   "execution_count": 612,
   "metadata": {},
   "outputs": [
    {
     "data": {
      "text/html": [
       "<div>\n",
       "<style scoped>\n",
       "    .dataframe tbody tr th:only-of-type {\n",
       "        vertical-align: middle;\n",
       "    }\n",
       "\n",
       "    .dataframe tbody tr th {\n",
       "        vertical-align: top;\n",
       "    }\n",
       "\n",
       "    .dataframe thead th {\n",
       "        text-align: right;\n",
       "    }\n",
       "</style>\n",
       "<table border=\"1\" class=\"dataframe\">\n",
       "  <thead>\n",
       "    <tr style=\"text-align: right;\">\n",
       "      <th></th>\n",
       "      <th>game_date</th>\n",
       "      <th>game_length</th>\n",
       "      <th>game_template</th>\n",
       "      <th>game_version</th>\n",
       "      <th>tournament_id</th>\n",
       "      <th>owner_id</th>\n",
       "      <th>p1_rating</th>\n",
       "      <th>p1_fraction</th>\n",
       "      <th>p1_hero_start</th>\n",
       "      <th>p_1_hero_main</th>\n",
       "      <th>p1_rating_change</th>\n",
       "      <th>p2_id</th>\n",
       "      <th>p2_rating</th>\n",
       "      <th>p2_hero_main</th>\n",
       "      <th>p2_hero_start</th>\n",
       "      <th>p2_fraction</th>\n",
       "      <th>p2_rating_change</th>\n",
       "      <th>game_result</th>\n",
       "      <th>player</th>\n",
       "      <th>p1</th>\n",
       "    </tr>\n",
       "  </thead>\n",
       "  <tbody>\n",
       "    <tr>\n",
       "      <th>0</th>\n",
       "      <td>2018-06-07</td>\n",
       "      <td>236</td>\n",
       "      <td>6lm10a</td>\n",
       "      <td>Hota</td>\n",
       "      <td>109</td>\n",
       "      <td>44727</td>\n",
       "      <td>1532.0</td>\n",
       "      <td>Inferno</td>\n",
       "      <td>Marius</td>\n",
       "      <td>Isra</td>\n",
       "      <td>17.0</td>\n",
       "      <td>53651</td>\n",
       "      <td>1562.0</td>\n",
       "      <td>Gundula</td>\n",
       "      <td>Gundula</td>\n",
       "      <td>Stronghold</td>\n",
       "      <td>-17.0</td>\n",
       "      <td>Lose</td>\n",
       "      <td>Drakonin</td>\n",
       "      <td>False</td>\n",
       "    </tr>\n",
       "    <tr>\n",
       "      <th>1</th>\n",
       "      <td>2018-06-20</td>\n",
       "      <td>134</td>\n",
       "      <td>Diamond</td>\n",
       "      <td>Hota</td>\n",
       "      <td>109</td>\n",
       "      <td>53651</td>\n",
       "      <td>1541.0</td>\n",
       "      <td>Stronghold</td>\n",
       "      <td>Gundula</td>\n",
       "      <td>Gundula</td>\n",
       "      <td>16.0</td>\n",
       "      <td>49828</td>\n",
       "      <td>1544.0</td>\n",
       "      <td>Charna</td>\n",
       "      <td>Charna</td>\n",
       "      <td>Necropolis</td>\n",
       "      <td>-16.0</td>\n",
       "      <td>Win</td>\n",
       "      <td>Drakonin</td>\n",
       "      <td>True</td>\n",
       "    </tr>\n",
       "    <tr>\n",
       "      <th>2</th>\n",
       "      <td>2018-07-05</td>\n",
       "      <td>143</td>\n",
       "      <td>6lm10a</td>\n",
       "      <td>Hota</td>\n",
       "      <td>109</td>\n",
       "      <td>53651</td>\n",
       "      <td>1557.0</td>\n",
       "      <td>Stronghold</td>\n",
       "      <td>Gundula</td>\n",
       "      <td>Gundula</td>\n",
       "      <td>24.0</td>\n",
       "      <td>43065</td>\n",
       "      <td>1745.0</td>\n",
       "      <td>Luna</td>\n",
       "      <td>Luna</td>\n",
       "      <td>Conflux</td>\n",
       "      <td>-24.0</td>\n",
       "      <td>Win</td>\n",
       "      <td>Drakonin</td>\n",
       "      <td>True</td>\n",
       "    </tr>\n",
       "    <tr>\n",
       "      <th>3</th>\n",
       "      <td>2018-07-11</td>\n",
       "      <td>144</td>\n",
       "      <td>6lm10a</td>\n",
       "      <td>Hota</td>\n",
       "      <td>111</td>\n",
       "      <td>53651</td>\n",
       "      <td>1581.0</td>\n",
       "      <td>Stronghold</td>\n",
       "      <td>Dessa</td>\n",
       "      <td>Dessa</td>\n",
       "      <td>17.0</td>\n",
       "      <td>44871</td>\n",
       "      <td>1597.0</td>\n",
       "      <td>Thant</td>\n",
       "      <td>Thant</td>\n",
       "      <td>Necropolis</td>\n",
       "      <td>-17.0</td>\n",
       "      <td>Win</td>\n",
       "      <td>Drakonin</td>\n",
       "      <td>True</td>\n",
       "    </tr>\n",
       "    <tr>\n",
       "      <th>4</th>\n",
       "      <td>2018-08-10</td>\n",
       "      <td>131</td>\n",
       "      <td>6lm10a</td>\n",
       "      <td>Hota</td>\n",
       "      <td>109</td>\n",
       "      <td>53651</td>\n",
       "      <td>1598.0</td>\n",
       "      <td>Stronghold</td>\n",
       "      <td>Gundula</td>\n",
       "      <td>Crag Hack</td>\n",
       "      <td>13.0</td>\n",
       "      <td>49828</td>\n",
       "      <td>1513.0</td>\n",
       "      <td>Labetha</td>\n",
       "      <td>Charna</td>\n",
       "      <td>Necropolis</td>\n",
       "      <td>-13.0</td>\n",
       "      <td>Win</td>\n",
       "      <td>Drakonin</td>\n",
       "      <td>True</td>\n",
       "    </tr>\n",
       "  </tbody>\n",
       "</table>\n",
       "</div>"
      ],
      "text/plain": [
       "    game_date  game_length game_template game_version  tournament_id  \\\n",
       "0  2018-06-07          236        6lm10a         Hota            109   \n",
       "1  2018-06-20          134       Diamond         Hota            109   \n",
       "2  2018-07-05          143        6lm10a         Hota            109   \n",
       "3  2018-07-11          144        6lm10a         Hota            111   \n",
       "4  2018-08-10          131        6lm10a         Hota            109   \n",
       "\n",
       "   owner_id  p1_rating p1_fraction p1_hero_start p_1_hero_main  \\\n",
       "0     44727     1532.0     Inferno        Marius          Isra   \n",
       "1     53651     1541.0  Stronghold       Gundula       Gundula   \n",
       "2     53651     1557.0  Stronghold       Gundula       Gundula   \n",
       "3     53651     1581.0  Stronghold         Dessa         Dessa   \n",
       "4     53651     1598.0  Stronghold       Gundula     Crag Hack   \n",
       "\n",
       "   p1_rating_change  p2_id  p2_rating p2_hero_main p2_hero_start p2_fraction  \\\n",
       "0              17.0  53651     1562.0      Gundula       Gundula  Stronghold   \n",
       "1              16.0  49828     1544.0       Charna        Charna  Necropolis   \n",
       "2              24.0  43065     1745.0         Luna          Luna     Conflux   \n",
       "3              17.0  44871     1597.0        Thant         Thant  Necropolis   \n",
       "4              13.0  49828     1513.0      Labetha        Charna  Necropolis   \n",
       "\n",
       "   p2_rating_change game_result    player     p1  \n",
       "0             -17.0        Lose  Drakonin  False  \n",
       "1             -16.0         Win  Drakonin   True  \n",
       "2             -24.0         Win  Drakonin   True  \n",
       "3             -17.0         Win  Drakonin   True  \n",
       "4             -13.0         Win  Drakonin   True  "
      ]
     },
     "execution_count": 612,
     "metadata": {},
     "output_type": "execute_result"
    }
   ],
   "source": [
    "deciphered_df.head()"
   ]
  }
 ],
 "metadata": {
  "kernelspec": {
   "display_name": "Python 3",
   "language": "python",
   "name": "python3"
  },
  "language_info": {
   "codemirror_mode": {
    "name": "ipython",
    "version": 3
   },
   "file_extension": ".py",
   "mimetype": "text/x-python",
   "name": "python",
   "nbconvert_exporter": "python",
   "pygments_lexer": "ipython3",
   "version": "3.7.4"
  }
 },
 "nbformat": 4,
 "nbformat_minor": 2
}
